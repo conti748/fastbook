{
 "cells": [
  {
   "cell_type": "markdown",
   "id": "cdbd3b3b-a7e2-44f4-9769-5d677b99ff8a",
   "metadata": {},
   "source": [
    "# Lesson 2: Practical Deep Learning for Coders - Deployment"
   ]
  },
  {
   "cell_type": "markdown",
   "id": "2394a74e-401e-43c0-872a-9d64cdb9d876",
   "metadata": {},
   "source": [
    "This notebook presents my personal notes and work coming from my experience with the second lesson of the course \"**Practical Deep Learning**\" by Jeremy Howard ([here](https://www.youtube.com/watch?v=F4tvM4Vb3A0&t=18s) for the video on YT) and the related fastbook, the Jupyter-Book from fast.ai. The lecture is based on the second chapter of the book. \n",
    "\n",
    "The lesson presents key concepts, guiding the transformation of our model prototype from Lesson 1 into an end-to-end deep learning system for deployment in a production environment.\n",
    "\n",
    "Lesson structure:"
   ]
  },
  {
   "cell_type": "code",
   "execution_count": null,
   "id": "f58a1f6e-9d04-40ad-ae46-a23dad0e3083",
   "metadata": {},
   "outputs": [],
   "source": [
    "# Uncomment to install the necessary packages  \n",
    "# !pip install -r requirements.txt"
   ]
  }
 ],
 "metadata": {
  "kernelspec": {
   "display_name": "Python 3 (ipykernel)",
   "language": "python",
   "name": "python3"
  },
  "language_info": {
   "codemirror_mode": {
    "name": "ipython",
    "version": 3
   },
   "file_extension": ".py",
   "mimetype": "text/x-python",
   "name": "python",
   "nbconvert_exporter": "python",
   "pygments_lexer": "ipython3",
   "version": "3.10.8"
  }
 },
 "nbformat": 4,
 "nbformat_minor": 5
}
