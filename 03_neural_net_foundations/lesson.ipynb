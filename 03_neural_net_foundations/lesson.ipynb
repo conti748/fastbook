{
 "cells": [
  {
   "cell_type": "markdown",
   "id": "a7acc5a5-eab5-4ef4-a9ee-5a2f09fc52ac",
   "metadata": {},
   "source": [
    "# Lesson 3: Practical Deep Learning for Coders - Neural net foundations\n",
    "\n",
    "This notebook presents my personal notes and work coming from my experience with the 3rd lesson of the course \"Practical Deep Learning\" by Jeremy Howard ([here](https://www.youtube.com/watch?v=hBBOjCiFcuo&t=4s) for the video on YT) and the related fastbook, the Jupyter-Book from fast.ai. The lecture is based on the chapter 4  of the book.\n",
    "\n",
    "The lesson explains what was going on in previous lectures. It discusses what a learner is and what training it means.\n",
    "\n",
    "Lesson structure:\n",
    "- What have we done so far? \n",
    "- How does a neural net really work?\n",
    "- How a neural network approximates any given function?\n",
    "- Build a regression model in spreadsheet;\n",
    "- Matrix multiplication makes training faster;\n",
    "- Homework"
   ]
  },
  {
   "cell_type": "code",
   "execution_count": null,
   "id": "2c9ba6f2-d0be-47a9-85d1-ea8228267ce6",
   "metadata": {},
   "outputs": [],
   "source": [
    "# Install the required packages\n",
    "! pip install -r requirements.txt"
   ]
  },
  {
   "cell_type": "markdown",
   "id": "b84bd185-9df6-4725-b442-76e444578a8a",
   "metadata": {},
   "source": [
    "## What have we done so far?"
   ]
  },
  {
   "cell_type": "markdown",
   "id": "91e0eced-b024-4b5f-ae06-09922fd90edc",
   "metadata": {},
   "source": [
    "Let's laod our trained learner and look at its structure"
   ]
  },
  {
   "cell_type": "code",
   "execution_count": 2,
   "id": "281504a3-db0a-4ddf-a215-0c45d7482d5e",
   "metadata": {
    "scrolled": true
   },
   "outputs": [
    {
     "data": {
      "text/plain": [
       "Sequential(\n",
       "  (0): Sequential(\n",
       "    (0): Conv2d(3, 64, kernel_size=(7, 7), stride=(2, 2), padding=(3, 3), bias=False)\n",
       "    (1): BatchNorm2d(64, eps=1e-05, momentum=0.1, affine=True, track_running_stats=True)\n",
       "    (2): ReLU(inplace=True)\n",
       "    (3): MaxPool2d(kernel_size=3, stride=2, padding=1, dilation=1, ceil_mode=False)\n",
       "    (4): Sequential(\n",
       "      (0): BasicBlock(\n",
       "        (conv1): Conv2d(64, 64, kernel_size=(3, 3), stride=(1, 1), padding=(1, 1), bias=False)\n",
       "        (bn1): BatchNorm2d(64, eps=1e-05, momentum=0.1, affine=True, track_running_stats=True)\n",
       "        (relu): ReLU(inplace=True)\n",
       "        (conv2): Conv2d(64, 64, kernel_size=(3, 3), stride=(1, 1), padding=(1, 1), bias=False)\n",
       "        (bn2): BatchNorm2d(64, eps=1e-05, momentum=0.1, affine=True, track_running_stats=True)\n",
       "      )\n",
       "      (1): BasicBlock(\n",
       "        (conv1): Conv2d(64, 64, kernel_size=(3, 3), stride=(1, 1), padding=(1, 1), bias=False)\n",
       "        (bn1): BatchNorm2d(64, eps=1e-05, momentum=0.1, affine=True, track_running_stats=True)\n",
       "        (relu): ReLU(inplace=True)\n",
       "        (conv2): Conv2d(64, 64, kernel_size=(3, 3), stride=(1, 1), padding=(1, 1), bias=False)\n",
       "        (bn2): BatchNorm2d(64, eps=1e-05, momentum=0.1, affine=True, track_running_stats=True)\n",
       "      )\n",
       "    )\n",
       "    (5): Sequential(\n",
       "      (0): BasicBlock(\n",
       "        (conv1): Conv2d(64, 128, kernel_size=(3, 3), stride=(2, 2), padding=(1, 1), bias=False)\n",
       "        (bn1): BatchNorm2d(128, eps=1e-05, momentum=0.1, affine=True, track_running_stats=True)\n",
       "        (relu): ReLU(inplace=True)\n",
       "        (conv2): Conv2d(128, 128, kernel_size=(3, 3), stride=(1, 1), padding=(1, 1), bias=False)\n",
       "        (bn2): BatchNorm2d(128, eps=1e-05, momentum=0.1, affine=True, track_running_stats=True)\n",
       "        (downsample): Sequential(\n",
       "          (0): Conv2d(64, 128, kernel_size=(1, 1), stride=(2, 2), bias=False)\n",
       "          (1): BatchNorm2d(128, eps=1e-05, momentum=0.1, affine=True, track_running_stats=True)\n",
       "        )\n",
       "      )\n",
       "      (1): BasicBlock(\n",
       "        (conv1): Conv2d(128, 128, kernel_size=(3, 3), stride=(1, 1), padding=(1, 1), bias=False)\n",
       "        (bn1): BatchNorm2d(128, eps=1e-05, momentum=0.1, affine=True, track_running_stats=True)\n",
       "        (relu): ReLU(inplace=True)\n",
       "        (conv2): Conv2d(128, 128, kernel_size=(3, 3), stride=(1, 1), padding=(1, 1), bias=False)\n",
       "        (bn2): BatchNorm2d(128, eps=1e-05, momentum=0.1, affine=True, track_running_stats=True)\n",
       "      )\n",
       "    )\n",
       "    (6): Sequential(\n",
       "      (0): BasicBlock(\n",
       "        (conv1): Conv2d(128, 256, kernel_size=(3, 3), stride=(2, 2), padding=(1, 1), bias=False)\n",
       "        (bn1): BatchNorm2d(256, eps=1e-05, momentum=0.1, affine=True, track_running_stats=True)\n",
       "        (relu): ReLU(inplace=True)\n",
       "        (conv2): Conv2d(256, 256, kernel_size=(3, 3), stride=(1, 1), padding=(1, 1), bias=False)\n",
       "        (bn2): BatchNorm2d(256, eps=1e-05, momentum=0.1, affine=True, track_running_stats=True)\n",
       "        (downsample): Sequential(\n",
       "          (0): Conv2d(128, 256, kernel_size=(1, 1), stride=(2, 2), bias=False)\n",
       "          (1): BatchNorm2d(256, eps=1e-05, momentum=0.1, affine=True, track_running_stats=True)\n",
       "        )\n",
       "      )\n",
       "      (1): BasicBlock(\n",
       "        (conv1): Conv2d(256, 256, kernel_size=(3, 3), stride=(1, 1), padding=(1, 1), bias=False)\n",
       "        (bn1): BatchNorm2d(256, eps=1e-05, momentum=0.1, affine=True, track_running_stats=True)\n",
       "        (relu): ReLU(inplace=True)\n",
       "        (conv2): Conv2d(256, 256, kernel_size=(3, 3), stride=(1, 1), padding=(1, 1), bias=False)\n",
       "        (bn2): BatchNorm2d(256, eps=1e-05, momentum=0.1, affine=True, track_running_stats=True)\n",
       "      )\n",
       "    )\n",
       "    (7): Sequential(\n",
       "      (0): BasicBlock(\n",
       "        (conv1): Conv2d(256, 512, kernel_size=(3, 3), stride=(2, 2), padding=(1, 1), bias=False)\n",
       "        (bn1): BatchNorm2d(512, eps=1e-05, momentum=0.1, affine=True, track_running_stats=True)\n",
       "        (relu): ReLU(inplace=True)\n",
       "        (conv2): Conv2d(512, 512, kernel_size=(3, 3), stride=(1, 1), padding=(1, 1), bias=False)\n",
       "        (bn2): BatchNorm2d(512, eps=1e-05, momentum=0.1, affine=True, track_running_stats=True)\n",
       "        (downsample): Sequential(\n",
       "          (0): Conv2d(256, 512, kernel_size=(1, 1), stride=(2, 2), bias=False)\n",
       "          (1): BatchNorm2d(512, eps=1e-05, momentum=0.1, affine=True, track_running_stats=True)\n",
       "        )\n",
       "      )\n",
       "      (1): BasicBlock(\n",
       "        (conv1): Conv2d(512, 512, kernel_size=(3, 3), stride=(1, 1), padding=(1, 1), bias=False)\n",
       "        (bn1): BatchNorm2d(512, eps=1e-05, momentum=0.1, affine=True, track_running_stats=True)\n",
       "        (relu): ReLU(inplace=True)\n",
       "        (conv2): Conv2d(512, 512, kernel_size=(3, 3), stride=(1, 1), padding=(1, 1), bias=False)\n",
       "        (bn2): BatchNorm2d(512, eps=1e-05, momentum=0.1, affine=True, track_running_stats=True)\n",
       "      )\n",
       "    )\n",
       "  )\n",
       "  (1): Sequential(\n",
       "    (0): AdaptiveConcatPool2d(\n",
       "      (ap): AdaptiveAvgPool2d(output_size=1)\n",
       "      (mp): AdaptiveMaxPool2d(output_size=1)\n",
       "    )\n",
       "    (1): fastai.layers.Flatten(full=False)\n",
       "    (2): BatchNorm1d(1024, eps=1e-05, momentum=0.1, affine=True, track_running_stats=True)\n",
       "    (3): Dropout(p=0.25, inplace=False)\n",
       "    (4): Linear(in_features=1024, out_features=512, bias=False)\n",
       "    (5): ReLU(inplace=True)\n",
       "    (6): BatchNorm1d(512, eps=1e-05, momentum=0.1, affine=True, track_running_stats=True)\n",
       "    (7): Dropout(p=0.5, inplace=False)\n",
       "    (8): Linear(in_features=512, out_features=3, bias=False)\n",
       "  )\n",
       ")"
      ]
     },
     "execution_count": 2,
     "metadata": {},
     "output_type": "execute_result"
    }
   ],
   "source": [
    "# load model from previous lesson\n",
    "from fastai.vision.all import load_learner\n",
    "# We may have some problem in Linux/Windows porting, check this https://forums.fast.ai/t/cannot-instantiate-windowspath-when-loading-learner/86564\n",
    "learn = load_learner('../02_deployment/minima/model.pkl')\n",
    "learn.model"
   ]
  },
  {
   "cell_type": "markdown",
   "id": "e44f7525-5ef5-4eba-af01-d6fb377e9c9c",
   "metadata": {},
   "source": [
    "Our model is a deep one; it contains multiple layers, and many of these layers consist of sublayers. What is all this stuff?"
   ]
  },
  {
   "cell_type": "code",
   "execution_count": 3,
   "id": "5f66f48c-ac3e-4f84-b98b-ba0493f7a838",
   "metadata": {
    "scrolled": true
   },
   "outputs": [
    {
     "data": {
      "text/plain": [
       "[Parameter containing:\n",
       " tensor([[[[-1.0431e-02, -6.1526e-03, -1.8345e-03,  ...,  5.6587e-02,\n",
       "             1.7056e-02, -1.2723e-02],\n",
       "           [ 1.1068e-02,  9.5084e-03, -1.0995e-01,  ..., -2.7126e-01,\n",
       "            -1.2910e-01,  3.7210e-03],\n",
       "           [-6.9631e-03,  5.9062e-02,  2.9545e-01,  ...,  5.1969e-01,\n",
       "             2.5630e-01,  6.3555e-02],\n",
       "           ...,\n",
       "           [-2.7557e-02,  1.6013e-02,  7.2557e-02,  ..., -3.3288e-01,\n",
       "            -4.2060e-01, -2.5784e-01],\n",
       "           [ 3.0589e-02,  4.0925e-02,  6.2809e-02,  ...,  4.1380e-01,\n",
       "             3.9356e-01,  1.6603e-01],\n",
       "           [-1.3763e-02, -3.7108e-03, -2.4123e-02,  ..., -1.5073e-01,\n",
       "            -8.2258e-02, -5.8058e-03]],\n",
       " \n",
       "          [[-1.1406e-02, -2.6633e-02, -3.4668e-02,  ...,  3.2483e-02,\n",
       "             6.2552e-04, -2.5773e-02],\n",
       "           [ 4.5672e-02,  3.3583e-02, -1.0455e-01,  ..., -3.1256e-01,\n",
       "            -1.6054e-01, -1.3168e-03],\n",
       "           [-8.5566e-04,  9.8395e-02,  4.0207e-01,  ...,  7.0785e-01,\n",
       "             3.6884e-01,  1.2452e-01],\n",
       "           ...,\n",
       "           [-5.5941e-02, -5.2526e-03,  2.7043e-02,  ..., -4.6182e-01,\n",
       "            -5.7084e-01, -3.6556e-01],\n",
       "           [ 3.2844e-02,  5.5543e-02,  9.9629e-02,  ...,  5.4632e-01,\n",
       "             4.8272e-01,  1.9864e-01],\n",
       "           [ 5.2831e-03,  6.6598e-03, -1.7299e-02,  ..., -1.4827e-01,\n",
       "            -7.7289e-02,  6.8441e-04]],\n",
       " \n",
       "          [[-2.0339e-03, -9.1625e-03,  2.1205e-02,  ...,  8.9168e-02,\n",
       "             3.3654e-02, -2.0102e-02],\n",
       "           [ 1.5386e-02, -1.8656e-02, -1.2592e-01,  ..., -2.5343e-01,\n",
       "            -1.2981e-01, -2.7977e-02],\n",
       "           [ 9.8218e-03,  4.9028e-02,  2.1698e-01,  ...,  3.4870e-01,\n",
       "             1.0432e-01,  1.8414e-02],\n",
       "           ...,\n",
       "           [-2.8370e-02,  1.8391e-02,  9.8628e-02,  ..., -1.1742e-01,\n",
       "            -2.5761e-01, -1.5451e-01],\n",
       "           [ 2.0754e-02, -2.6489e-03, -3.7845e-02,  ...,  2.4139e-01,\n",
       "             2.4344e-01,  1.1795e-01],\n",
       "           [ 7.3503e-04,  7.5761e-04, -1.0067e-02,  ..., -1.4867e-01,\n",
       "            -1.1755e-01, -3.8357e-02]]],\n",
       " \n",
       " \n",
       "         [[[-4.4138e-03, -4.0634e-03,  3.1587e-03,  ..., -3.7030e-02,\n",
       "            -2.5160e-02, -4.7948e-02],\n",
       "           [ 5.1310e-02,  5.3400e-02,  8.0433e-02,  ...,  1.4479e-01,\n",
       "             1.4287e-01,  1.2312e-01],\n",
       "           [-7.3381e-03,  2.1709e-03,  3.7576e-02,  ...,  6.1513e-02,\n",
       "             8.0324e-02,  1.1715e-01],\n",
       "           ...,\n",
       "           [-2.6756e-02, -1.2298e-01, -1.3653e-01,  ..., -1.4069e-01,\n",
       "            -1.1156e-01, -4.9557e-02],\n",
       "           [ 2.3521e-02, -1.7293e-02, -1.1127e-02,  ..., -1.8835e-02,\n",
       "            -2.3324e-02, -2.9476e-02],\n",
       "           [ 2.8685e-02,  2.1651e-02,  4.7880e-02,  ...,  2.5488e-02,\n",
       "             3.5341e-02,  1.1278e-02]],\n",
       " \n",
       "          [[ 4.5705e-04,  1.2140e-02,  4.2021e-02,  ...,  4.6386e-02,\n",
       "             4.0408e-02, -1.4456e-02],\n",
       "           [ 4.3447e-02,  6.8762e-02,  1.3266e-01,  ...,  2.8604e-01,\n",
       "             2.6904e-01,  2.0933e-01],\n",
       "           [-5.7641e-02, -2.2661e-02,  3.0529e-02,  ...,  1.3761e-01,\n",
       "             1.6536e-01,  1.7945e-01],\n",
       "           ...,\n",
       "           [-1.0818e-01, -2.5229e-01, -2.9744e-01,  ..., -2.8505e-01,\n",
       "            -2.1495e-01, -1.0321e-01],\n",
       "           [ 4.0691e-02, -3.2789e-02, -6.3468e-02,  ..., -9.2382e-02,\n",
       "            -6.9894e-02, -4.9857e-02],\n",
       "           [ 8.2924e-02,  8.7560e-02,  1.0109e-01,  ...,  5.2693e-02,\n",
       "             6.0950e-02,  4.1182e-02]],\n",
       " \n",
       "          [[-1.6413e-02, -1.3888e-02,  5.2635e-03,  ...,  4.3680e-02,\n",
       "             2.2690e-02, -4.6004e-02],\n",
       "           [ 3.3177e-02,  4.1993e-02,  9.3479e-02,  ...,  2.6160e-01,\n",
       "             2.2968e-01,  1.6692e-01],\n",
       "           [-4.6015e-02, -1.6388e-02,  2.6791e-02,  ...,  1.4949e-01,\n",
       "             1.3215e-01,  1.3578e-01],\n",
       "           ...,\n",
       "           [-7.2152e-02, -1.8904e-01, -2.3391e-01,  ..., -1.9039e-01,\n",
       "            -1.5610e-01, -7.5984e-02],\n",
       "           [ 5.1141e-02, -2.5833e-02, -6.9374e-02,  ..., -5.9017e-02,\n",
       "            -6.1565e-02, -4.4567e-02],\n",
       "           [ 1.1172e-01,  7.8961e-02,  6.5829e-02,  ...,  3.1599e-02,\n",
       "             2.5207e-02,  7.4143e-03]]],\n",
       " \n",
       " \n",
       "         [[[-7.0826e-08, -6.4306e-08, -7.3806e-08,  ..., -9.8000e-08,\n",
       "            -1.0905e-07, -8.3421e-08],\n",
       "           [-6.1125e-09,  2.0613e-09, -8.0922e-09,  ..., -4.9840e-08,\n",
       "            -4.3836e-08, -3.0538e-09],\n",
       "           [ 7.1953e-08,  7.5616e-08,  5.9282e-08,  ..., -9.7509e-09,\n",
       "            -1.0951e-09,  4.2442e-08],\n",
       "           ...,\n",
       "           [ 9.5889e-08,  1.0039e-07,  7.9817e-08,  ..., -1.7491e-08,\n",
       "            -4.7666e-08, -1.3265e-08],\n",
       "           [ 1.2904e-07,  1.4762e-07,  1.7477e-07,  ...,  1.3233e-07,\n",
       "             1.0628e-07,  9.3316e-08],\n",
       "           [ 1.2558e-07,  1.3644e-07,  1.8431e-07,  ...,  2.1399e-07,\n",
       "             1.7710e-07,  1.7166e-07]],\n",
       " \n",
       "          [[-1.2690e-07, -9.6139e-08, -1.0372e-07,  ..., -1.1808e-07,\n",
       "            -1.3309e-07, -1.0820e-07],\n",
       "           [-5.7412e-08, -2.5055e-08, -3.0115e-08,  ..., -7.2922e-08,\n",
       "            -6.7022e-08, -2.2574e-08],\n",
       "           [ 2.1813e-08,  4.8608e-08,  3.1222e-08,  ..., -1.8694e-08,\n",
       "            -7.9591e-09,  3.9750e-08],\n",
       "           ...,\n",
       "           [ 5.6013e-08,  7.5526e-08,  4.4496e-08,  ..., -4.4128e-08,\n",
       "            -5.9930e-08, -1.8247e-08],\n",
       "           [ 7.7614e-08,  9.8348e-08,  1.0455e-07,  ...,  6.3272e-08,\n",
       "             4.1781e-08,  4.5901e-08],\n",
       "           [ 5.9833e-08,  7.1006e-08,  9.0437e-08,  ...,  1.1654e-07,\n",
       "             8.7550e-08,  9.8837e-08]],\n",
       " \n",
       "          [[-4.3810e-08,  1.3270e-08,  7.8275e-09,  ..., -5.8804e-09,\n",
       "            -2.6217e-08, -1.5649e-08],\n",
       "           [ 4.1700e-08,  1.0778e-07,  1.0946e-07,  ...,  7.6403e-08,\n",
       "             7.1450e-08,  9.7615e-08],\n",
       "           [ 1.0436e-07,  1.6586e-07,  1.5933e-07,  ...,  1.3517e-07,\n",
       "             1.3487e-07,  1.6449e-07],\n",
       "           ...,\n",
       "           [ 9.8763e-08,  1.5072e-07,  1.2547e-07,  ...,  6.8315e-08,\n",
       "             6.8382e-08,  1.1367e-07],\n",
       "           [ 9.1434e-08,  1.3576e-07,  1.3793e-07,  ...,  1.1678e-07,\n",
       "             1.1723e-07,  1.4394e-07],\n",
       "           [ 6.2183e-08,  8.8184e-08,  1.0456e-07,  ...,  1.3941e-07,\n",
       "             1.3333e-07,  1.5844e-07]]],\n",
       " \n",
       " \n",
       "         ...,\n",
       " \n",
       " \n",
       "         [[[-6.1905e-02, -3.0212e-02,  1.9225e-02,  ...,  4.3666e-02,\n",
       "            -2.2123e-02, -4.2223e-02],\n",
       "           [-3.8066e-02,  6.0740e-03,  4.5795e-02,  ...,  9.6024e-02,\n",
       "             5.9238e-02,  2.9946e-02],\n",
       "           [-2.9675e-02,  2.7742e-03,  2.0457e-02,  ...,  5.9836e-02,\n",
       "             4.1409e-02,  2.3115e-02],\n",
       "           ...,\n",
       "           [ 1.1915e-02,  4.5703e-02,  4.4889e-02,  ...,  4.7398e-02,\n",
       "             2.2250e-02, -5.5297e-03],\n",
       "           [-3.2471e-02, -1.2209e-02,  2.2017e-02,  ...,  5.8024e-02,\n",
       "            -7.5355e-03, -5.9777e-02],\n",
       "           [-4.3316e-02, -2.8163e-02, -5.9174e-03,  ...,  8.8425e-02,\n",
       "             8.4078e-03, -5.0061e-02]],\n",
       " \n",
       "          [[-6.1299e-02, -1.4007e-02,  1.7229e-02,  ...,  1.8358e-02,\n",
       "            -3.2708e-02, -4.1064e-02],\n",
       "           [-3.1512e-02,  2.4457e-02,  4.5516e-02,  ...,  6.6822e-02,\n",
       "             4.6678e-02,  3.3235e-02],\n",
       "           [-3.2214e-02,  2.0721e-02,  2.3344e-02,  ...,  3.5298e-02,\n",
       "             3.6478e-02,  3.1272e-02],\n",
       "           ...,\n",
       "           [ 1.7743e-02,  6.1050e-02,  4.8243e-02,  ...,  3.7775e-02,\n",
       "             2.8874e-02,  1.3959e-02],\n",
       "           [-1.0892e-02,  2.2084e-02,  4.2727e-02,  ...,  6.0216e-02,\n",
       "             1.6167e-02, -1.2524e-02],\n",
       "           [-2.2289e-02,  1.3217e-02,  3.0887e-02,  ...,  1.0399e-01,\n",
       "             4.0085e-02, -5.3625e-03]],\n",
       " \n",
       "          [[-8.5324e-02, -4.2601e-02,  6.8212e-03,  ...,  3.0765e-02,\n",
       "            -3.4812e-02, -4.9944e-02],\n",
       "           [-2.9215e-02,  1.8168e-02,  5.1101e-02,  ...,  9.0220e-02,\n",
       "             5.3444e-02,  4.0166e-02],\n",
       "           [-3.9926e-02, -1.1041e-03,  9.6273e-03,  ...,  2.4137e-02,\n",
       "             2.6304e-02,  2.5482e-02],\n",
       "           ...,\n",
       "           [-3.1794e-03,  3.0473e-02,  1.6325e-02,  ...,  5.5032e-03,\n",
       "            -6.2829e-03, -8.4799e-03],\n",
       "           [-2.2996e-02, -2.8098e-03,  2.3204e-02,  ...,  3.5865e-02,\n",
       "            -1.4322e-02, -3.2442e-02],\n",
       "           [-9.8890e-03,  7.0579e-03,  1.0658e-02,  ...,  7.0473e-02,\n",
       "             1.2967e-02, -8.3668e-03]]],\n",
       " \n",
       " \n",
       "         [[[-7.8522e-03,  1.9927e-02,  3.4223e-02,  ...,  2.8708e-02,\n",
       "             1.2830e-02,  1.8139e-02],\n",
       "           [ 8.8103e-03, -3.2862e-02, -3.5696e-02,  ...,  7.2544e-02,\n",
       "             4.5897e-02,  5.2367e-02],\n",
       "           [-3.6108e-02, -1.1877e-01, -1.3765e-01,  ...,  3.3821e-02,\n",
       "             3.7815e-02,  2.6927e-02],\n",
       "           ...,\n",
       "           [ 1.7339e-02,  3.9733e-03, -8.2157e-03,  ...,  2.7566e-03,\n",
       "             1.8312e-02,  1.6047e-02],\n",
       "           [-9.3303e-04,  1.6446e-02,  1.7173e-02,  ...,  3.3755e-03,\n",
       "             2.2864e-02,  6.5785e-04],\n",
       "           [ 6.1863e-03,  2.7156e-02,  1.4355e-02,  ...,  7.5935e-03,\n",
       "             1.8772e-02,  1.5622e-02]],\n",
       " \n",
       "          [[-1.3407e-02, -4.9979e-04,  8.1070e-03,  ..., -6.0832e-03,\n",
       "             9.2434e-03,  1.5738e-02],\n",
       "           [-1.8327e-02, -6.7974e-02, -7.0670e-02,  ...,  2.9866e-02,\n",
       "             2.6272e-02,  2.3756e-02],\n",
       "           [-5.4346e-02, -1.4662e-01, -1.6210e-01,  ...,  1.1792e-02,\n",
       "             3.2491e-02,  1.1958e-02],\n",
       "           ...,\n",
       "           [ 8.5508e-04, -1.7553e-02, -1.9527e-02,  ..., -4.1363e-03,\n",
       "             2.4660e-02,  1.2886e-02],\n",
       "           [-6.1315e-04,  1.1805e-02,  2.4827e-02,  ...,  6.1211e-03,\n",
       "             3.9222e-02,  9.6757e-03],\n",
       "           [-7.1686e-03,  6.7001e-03,  5.2853e-03,  ..., -7.5991e-03,\n",
       "             2.7261e-02,  1.7739e-02]],\n",
       " \n",
       "          [[-2.1843e-04, -4.9334e-03,  2.3010e-03,  ..., -4.7944e-02,\n",
       "            -2.6153e-02, -2.3539e-02],\n",
       "           [-3.1194e-04, -5.1521e-02, -5.9980e-02,  ..., -1.7371e-02,\n",
       "            -2.3339e-02, -3.7325e-02],\n",
       "           [-2.2674e-02, -9.9437e-02, -1.1177e-01,  ..., -1.1734e-02,\n",
       "            -8.3776e-03, -4.0629e-02],\n",
       "           ...,\n",
       "           [ 1.1446e-02, -8.0450e-03, -1.5061e-03,  ..., -3.4141e-02,\n",
       "            -8.7375e-03, -2.3537e-02],\n",
       "           [ 2.9659e-03,  6.7958e-04,  1.9936e-02,  ..., -2.2001e-02,\n",
       "             1.4817e-02, -1.4484e-02],\n",
       "           [-1.9082e-02, -2.9432e-02, -2.3281e-02,  ..., -4.8585e-02,\n",
       "            -1.3051e-02, -2.4369e-02]]],\n",
       " \n",
       " \n",
       "         [[[-3.6258e-02,  7.2355e-03,  1.9137e-02,  ...,  1.9637e-02,\n",
       "             1.4904e-02, -1.7265e-02],\n",
       "           [-1.1023e-02,  8.5701e-02,  1.2671e-01,  ...,  1.3779e-02,\n",
       "            -2.1130e-05, -3.0129e-02],\n",
       "           [ 1.1325e-01,  1.8638e-01,  5.0695e-02,  ..., -1.7329e-01,\n",
       "            -7.2007e-02, -6.2440e-02],\n",
       "           ...,\n",
       "           [-5.3025e-02, -2.5777e-01, -2.6744e-01,  ...,  2.6784e-01,\n",
       "             1.4348e-01,  5.5180e-02],\n",
       "           [-2.0970e-02, -2.9930e-02,  1.0248e-01,  ...,  2.0847e-01,\n",
       "            -4.1161e-03, -3.8083e-02],\n",
       "           [-2.2117e-02,  1.2417e-02,  8.4336e-02,  ..., -4.4959e-02,\n",
       "            -1.4684e-01, -9.0855e-02]],\n",
       " \n",
       "          [[-5.3629e-03,  3.2834e-02,  1.5521e-02,  ..., -7.7134e-03,\n",
       "             3.0517e-03,  1.1492e-03],\n",
       "           [ 6.1757e-02,  1.4902e-01,  1.4649e-01,  ..., -2.8865e-02,\n",
       "            -2.0197e-02, -9.1587e-03],\n",
       "           [ 1.6149e-01,  2.0890e-01, -2.5554e-02,  ..., -2.7275e-01,\n",
       "            -1.0732e-01, -6.2941e-02],\n",
       "           ...,\n",
       "           [-1.3719e-01, -4.0859e-01, -3.8548e-01,  ...,  4.0849e-01,\n",
       "             2.6205e-01,  1.3494e-01],\n",
       "           [-5.9353e-02, -6.1149e-02,  1.4200e-01,  ...,  3.5784e-01,\n",
       "             9.0929e-02, -1.7045e-03],\n",
       "           [ 7.8953e-03,  5.8439e-02,  1.5342e-01,  ...,  4.7080e-02,\n",
       "            -1.0092e-01, -9.7884e-02]],\n",
       " \n",
       "          [[-5.6399e-03,  1.3466e-02, -2.6422e-02,  ...,  4.5140e-03,\n",
       "             2.0920e-03,  1.3924e-02],\n",
       "           [ 6.6340e-03,  4.5221e-02,  6.0297e-02,  ...,  1.4386e-02,\n",
       "            -5.0518e-03,  4.0711e-03],\n",
       "           [ 5.5295e-02,  1.2401e-01,  4.3214e-02,  ..., -1.4484e-01,\n",
       "            -7.4472e-02, -5.7513e-02],\n",
       "           ...,\n",
       "           [-3.1477e-02, -1.6331e-01, -1.5793e-01,  ...,  2.2905e-01,\n",
       "             1.2019e-01,  7.2021e-02],\n",
       "           [-1.0414e-02, -1.0914e-03,  8.4601e-02,  ...,  1.5750e-01,\n",
       "             2.2161e-02, -1.0063e-02],\n",
       "           [-4.8204e-03, -4.9700e-03,  3.6362e-02,  ..., -2.4349e-02,\n",
       "            -7.1178e-02, -6.6771e-02]]]], requires_grad=True)]"
      ]
     },
     "execution_count": 3,
     "metadata": {},
     "output_type": "execute_result"
    }
   ],
   "source": [
    "l = learn.model.get_submodule('0.0')\n",
    "list(l.parameters())"
   ]
  },
  {
   "cell_type": "markdown",
   "id": "34d3aa16-ff03-4cce-8cf0-8054f2ce1b43",
   "metadata": {},
   "source": [
    "Each layer in our network has a lot of paramenters. Our model consists in a incredible number of parameters, but how they are use by our model?"
   ]
  },
  {
   "cell_type": "markdown",
   "id": "951a1b76-6a00-4a52-9929-6d30ebb186b1",
   "metadata": {},
   "source": [
    "## How does a neural net really work?"
   ]
  },
  {
   "cell_type": "markdown",
   "id": "4b1e8ac6-79a4-4857-9628-291db6d55d5a",
   "metadata": {},
   "source": [
    "Okay, let's delve deeper into the subject! This section is based on the notebook [How does a NN really work?](https://www.kaggle.com/code/jhoward/how-does-a-neural-net-really-work) by Jeremy.\n",
    "\n",
    "\n",
    "A neural network (NN) is essentially a mathematical function attempting to estimate a non-linear function. Imagine having a mathematical function that we are interested in estimating, for example, to predict how a time series evolves. In most situations, we only have a limited amount of available data. Let's explain this practically!\n",
    "\n",
    "\n",
    "Let's create a function and try to estimate it!"
   ]
  },
  {
   "cell_type": "code",
   "execution_count": 4,
   "id": "c5fb3f39-7101-4e07-b62c-0e83000941d3",
   "metadata": {},
   "outputs": [],
   "source": [
    "from ipywidgets import interact\n",
    "from fastai.basics import plt, torch\n",
    "\n",
    "plt.rc('figure', dpi=90)\n",
    "\n",
    "def plot_function(f, title=None, min=-2.1, max=2.1, color='r', ylim=None):\n",
    "    x = torch.linspace(min,max, 100)[:,None]\n",
    "    if ylim: plt.ylim(ylim)\n",
    "    plt.plot(x, f(x), color)\n",
    "    if title is not None: plt.title(title)"
   ]
  },
  {
   "cell_type": "markdown",
   "id": "55df8823-8da3-48b1-8462-d0e07507c817",
   "metadata": {},
   "source": [
    "### Define a quadratic function"
   ]
  },
  {
   "cell_type": "markdown",
   "id": "1bc6b737-6efd-41ea-bc5b-377e672a1bbb",
   "metadata": {},
   "source": [
    "Herein, we define a quadratic function, setting-up its parameters. We can plot is just using the utility function provided above."
   ]
  },
  {
   "cell_type": "code",
   "execution_count": 6,
   "id": "22399658-5944-4d45-98cf-ae1dd41aa927",
   "metadata": {},
   "outputs": [
    {
     "data": {
      "image/png": "[encoded data removed]",
      "text/plain": [
       "<Figure size 576x432 with 1 Axes>"
      ]
     },
     "metadata": {},
     "output_type": "display_data"
    }
   ],
   "source": [
    "def f(x): return 2*x**2 + 3*x + 1\n",
    "plot_function(f, \"$2x^2 + 3x + 1$\")"
   ]
  },
  {
   "cell_type": "markdown",
   "id": "d4af7e33-f988-4a46-8413-d2a41199a477",
   "metadata": {},
   "source": [
    "Let's define a utility function that calculates the value of a point on any quadratic function"
   ]
  },
  {
   "cell_type": "code",
   "execution_count": 7,
   "id": "efbe9ee7-ca54-422e-b9da-f93a0f2ead53",
   "metadata": {},
   "outputs": [],
   "source": [
    "def quad(a, b, c, x): return a*x**2 + b*x + c"
   ]
  },
  {
   "cell_type": "markdown",
   "id": "0f7cd38b-bbb1-4bc2-9efc-7b84452f3f49",
   "metadata": {},
   "source": [
    "If we fix some particular values of `a`, `b`, and `c`, then we'll have made a quadratic. To fix values passed to a function in python, we use the  `partial` function, like so:"
   ]
  },
  {
   "cell_type": "code",
   "execution_count": 10,
   "id": "cd32a060-6562-4859-a049-631c8aff1913",
   "metadata": {},
   "outputs": [],
   "source": [
    "from fastai.basics import partial\n",
    "def mk_quad(a,b,c): return partial(quad, a,b,c)"
   ]
  },
  {
   "cell_type": "markdown",
   "id": "fb0d27c0-fc3f-4f90-9343-c1a37da6272f",
   "metadata": {},
   "source": [
    "Ok, we have created a function that, given its parameter, return a quadratic function as a python function!"
   ]
  },
  {
   "cell_type": "code",
   "execution_count": 11,
   "id": "1ea63a3e-cb74-44bb-8ff6-f4ffb75e1273",
   "metadata": {},
   "outputs": [
    {
     "data": {
      "image/png": "[encoded data removed]",
      "text/plain": [
       "<Figure size 576x432 with 1 Axes>"
      ]
     },
     "metadata": {},
     "output_type": "display_data"
    }
   ],
   "source": [
    "f2 = mk_quad(2,3,1)\n",
    "plot_function(f2, \"$2x^2 + 3x + 1$\")"
   ]
  },
  {
   "cell_type": "markdown",
   "id": "ec90fb2a-1bbe-4a51-ab72-76ae61bd80ca",
   "metadata": {},
   "source": [
    "Now, for our example, let's suppose we have data sampled from this function. In real-world data, we have noise (i.e., random values affecting our observations). Hence, let's generate some synthetic data."
   ]
  },
  {
   "cell_type": "markdown",
   "id": "fa7506ef-c055-4142-ba2c-6ae3d53d1ff4",
   "metadata": {},
   "source": [
    "### Sample synthetic data"
   ]
  },
  {
   "cell_type": "code",
   "execution_count": 12,
   "id": "a6d97353-681b-4a91-9af2-ba1f9142a32b",
   "metadata": {},
   "outputs": [],
   "source": [
    "def noise(x, scale): return np.random.normal(scale=scale, size=x.shape)\n",
    "def add_noise(x, mult, add): return x * (1+noise(x,mult)) + noise(x,add)"
   ]
  },
  {
   "cell_type": "markdown",
   "id": "1b1ed3ce-95e6-41d2-b914-ad66730a00cf",
   "metadata": {},
   "source": [
    "Let's use the now to create our noisy measurements based on the quadratic above:"
   ]
  },
  {
   "cell_type": "code",
   "execution_count": 14,
   "id": "090e89e3-9295-47d7-8745-985088e139e8",
   "metadata": {},
   "outputs": [],
   "source": [
    "from fastai.basics import np\n",
    "np.random.seed(42)\n",
    "x = torch.linspace(-2, 2, steps=20)[:,None]\n",
    "y = add_noise(f(x), 0.15, 1.5)"
   ]
  },
  {
   "cell_type": "code",
   "execution_count": 15,
   "id": "79a52728-804b-4f3f-80d0-340de48e6807",
   "metadata": {},
   "outputs": [
    {
     "data": {
      "text/plain": [
       "(tensor([[-2.0000],\n",
       "         [-1.7895],\n",
       "         [-1.5789],\n",
       "         [-1.3684],\n",
       "         [-1.1579]]),\n",
       " tensor([[ 5.4220],\n",
       "         [ 1.6551],\n",
       "         [ 1.4720],\n",
       "         [-1.3510],\n",
       "         [-0.6161]], dtype=torch.float64))"
      ]
     },
     "execution_count": 15,
     "metadata": {},
     "output_type": "execute_result"
    }
   ],
   "source": [
    "x[:5],y[:5]"
   ]
  },
  {
   "cell_type": "markdown",
   "id": "2d2641be-54d5-491a-a2b5-ea1f182bde60",
   "metadata": {},
   "source": [
    "We're not going to learn much about our data by just looking at the raw numbers, so let's draw a picture:"
   ]
  },
  {
   "cell_type": "code",
   "execution_count": 16,
   "id": "31705eb5-287d-457a-a5f1-e853be027a35",
   "metadata": {},
   "outputs": [
    {
     "data": {
      "image/png": "[encoded data removed]",
      "text/plain": [
       "<Figure size 576x432 with 1 Axes>"
      ]
     },
     "metadata": {},
     "output_type": "display_data"
    }
   ],
   "source": [
    "plt.scatter(x,y);"
   ]
  },
  {
   "cell_type": "markdown",
   "id": "7e22c727-b018-48d6-8acd-422ce66e8297",
   "metadata": {},
   "source": [
    "### Estimate the function manually!"
   ]
  },
  {
   "cell_type": "markdown",
   "id": "bd2c7cd8-e990-423f-997f-a5d1a01d2424",
   "metadata": {},
   "source": [
    "A neural network aims to estimate the original function. In this example, we know that our function is quadratic, and we are interested in estimating its parameters.\n",
    "How do we find values of `a`, `b`, and `c` which fit this data? One approach is to try a few values and see what fits. Here's a function which overlays a quadratic on top of our data, along with some sliders to change `a`, `b`, and `c`, and see how it looks:"
   ]
  },
  {
   "cell_type": "code",
   "execution_count": 17,
   "id": "640d74a4-5121-4901-b5f3-43cd06733e36",
   "metadata": {},
   "outputs": [
    {
     "data": {
      "application/vnd.jupyter.widget-view+json": {
       "model_id": "44b1e686324e4963ac74a6fc72a8f00f",
       "version_major": 2,
       "version_minor": 0
      },
      "text/plain": [
       "interactive(children=(FloatSlider(value=1.1, description='a', max=3.3000000000000003, min=-1.1), FloatSlider(v…"
      ]
     },
     "metadata": {},
     "output_type": "display_data"
    }
   ],
   "source": [
    "@interact(a=1.1, b=1.1, c=1.1)\n",
    "def plot_quad(a, b, c):\n",
    "    plt.scatter(x,y)\n",
    "    plot_function(mk_quad(a,b,c), ylim=(-3,13))"
   ]
  },
  {
   "cell_type": "markdown",
   "id": "c3a93faa-1ee0-4515-9b72-c402628272b1",
   "metadata": {},
   "source": [
    "Try moving slider `a` a bit to the left. Does that look better or worse? How about if you move it a bit to the right? Find out which direction seems to improve the fit of the quadratic to the data, and move the slider a bit in that direction. Next, do the same for slider `b`: first figure out which direction improves the fit, then move it a bit in that direction. Then do the same for `c`.\n",
    "\n",
    "OK, now go back to slider `a` and repeat the process. Do it again for `b` and `c` as well.\n",
    "\n",
    "\n",
    "Did you notice that by going back and doing the sliders a second time that you were able to improve things a bit further? That's an important insight -- it's only after changing `b` and `c`, for instance, that you realise that `a` actually needs some adjustment based on those new values."
   ]
  },
  {
   "cell_type": "markdown",
   "id": "807fa2af-0476-4d0a-948f-6ce5bc22b949",
   "metadata": {},
   "source": [
    "### Add a Loss function!"
   ]
  },
  {
   "cell_type": "markdown",
   "id": "a84064e1-91f2-4388-b466-c360e72240c9",
   "metadata": {},
   "source": [
    "One thing that's making this tricky is that we don't really have a great sense of whether our fit is really better or worse. It would be easier if we had a numeric measure of that. On easy metric we could use is **mean absolute error**, which is the distance from each data point to the curve:"
   ]
  },
  {
   "cell_type": "code",
   "execution_count": 18,
   "id": "fb2f3d98-0ffc-4025-a30e-244dbe601c52",
   "metadata": {},
   "outputs": [],
   "source": [
    "def mae(preds, acts): return (torch.abs(preds-acts)).mean()"
   ]
  },
  {
   "cell_type": "markdown",
   "id": "c7c41afb-d1f1-4b98-b70e-dfe4e9fbb56b",
   "metadata": {},
   "source": [
    "We'll update our interactive function to print this at the top for us.\n",
    "\n",
    "Use this to repeat the approach we took before to try to find the best fit, but this time just use the value of the metric to decide which direction to move each slider, and how far to move it.\n",
    "\n",
    "This time around, try doing it in the opposite order: `c`, then `b`, then `a`.\n",
    "\n",
    "You'll probably find that you have to go through the set of sliders a couple of times to get the best fit."
   ]
  },
  {
   "cell_type": "code",
   "execution_count": 19,
   "id": "acecd78e-90b9-4ecc-840d-ba6b2fc085e5",
   "metadata": {},
   "outputs": [
    {
     "data": {
      "application/vnd.jupyter.widget-view+json": {
       "model_id": "6a9078a12d254c0da9ce42dd760e320c",
       "version_major": 2,
       "version_minor": 0
      },
      "text/plain": [
       "interactive(children=(FloatSlider(value=1.1, description='a', max=3.3000000000000003, min=-1.1), FloatSlider(v…"
      ]
     },
     "metadata": {},
     "output_type": "display_data"
    }
   ],
   "source": [
    "@interact(a=1.1, b=1.1, c=1.1)\n",
    "def plot_quad(a, b, c):\n",
    "    f = mk_quad(a,b,c)\n",
    "    plt.scatter(x,y)\n",
    "    loss = mae(f(x), y)\n",
    "    plot_function(f, ylim=(-3,12), title=f\"MAE: {loss:.2f}\")"
   ]
  },
  {
   "cell_type": "markdown",
   "id": "c3a9e928-71ce-4f11-96ce-89222caff770",
   "metadata": {},
   "source": [
    "### Automating gradient descent"
   ]
  },
  {
   "cell_type": "markdown",
   "id": "ef18814b-ce8a-4485-8751-adf52c57f355",
   "metadata": {},
   "source": [
    "In a modern neural network we'll often have tens of millions of parameters to fit, or more, and thousands or millions of data points to fit them to. We're not going to be able to do that by moving sliders around! We'll need to automate this process.\n",
    "\n",
    "Thankfully, that turns out to be pretty straightforward. We can usderivativesus to figure out, for each parameter, whether we should increase or decrease i Indeed, derivatives measure the rate of change of a function. Actually, we don't even need to calculate them ourselves, because the computer (i.e. pytorch) will do it for us!"
   ]
  },
  {
   "cell_type": "markdown",
   "id": "ca371981-9030-434f-a846-7ed6bc6ec673",
   "metadata": {},
   "source": [
    "The basic idea is this: if we know the gradient of our `mae()` function with respect to our parameters, `a`, `b`, and `c`, then that means we know how adjusting (for instance) a will change the value of `mae()`. If, say, a has a **negative gradient**, then we know that increasing a will decrease `mae()`. Then we know that's what we need to do, since we trying to make `mae()` as low as possible.\n",
    "\n",
    "So, we find the gradient of `mae()` for each of our parameters, and then adjust our parameters a bit in the **opposite direction to the sign of the gradient**.\n",
    "\n",
    "To do this, first we need a function that takes all the parameters `a`, `b`, and `c` as a single vector input, and returns the value `mae()` based on those parameters:"
   ]
  },
  {
   "cell_type": "code",
   "execution_count": 20,
   "id": "c107b606-3dc6-4d92-8f18-055cf0366ad0",
   "metadata": {},
   "outputs": [],
   "source": [
    "def quad_mae(params):\n",
    "    f = mk_quad(*params)\n",
    "    return mae(f(x), y)"
   ]
  },
  {
   "cell_type": "markdown",
   "id": "eb180c13-d66a-472f-9af9-384c2a47c009",
   "metadata": {},
   "source": [
    "Let's try it:"
   ]
  },
  {
   "cell_type": "code",
   "execution_count": 21,
   "id": "95f9a2b8-a287-4076-a386-323df4fd3e9c",
   "metadata": {},
   "outputs": [
    {
     "data": {
      "text/plain": [
       "tensor(1.8561, dtype=torch.float64)"
      ]
     },
     "execution_count": 21,
     "metadata": {},
     "output_type": "execute_result"
    }
   ],
   "source": [
    "quad_mae([1.1, 1.1, 1.1])"
   ]
  },
  {
   "cell_type": "markdown",
   "id": "fcbbdd32-ba5f-40d3-8192-a0573a1ebe43",
   "metadata": {},
   "source": [
    "Yup, that's the same as the starting  `mae()` we had in our plot before.\n",
    "\n",
    "We're first going to do exactly the same thing as we did manually -- pick some arbritrary starting point for our parameters. We'll put them all into a single tensor:"
   ]
  },
  {
   "cell_type": "code",
   "execution_count": 22,
   "id": "00c77614-5ef4-40a7-a7e4-7ceaaaf57afe",
   "metadata": {},
   "outputs": [],
   "source": [
    "abc = torch.tensor([1.1,1.1,1.1])"
   ]
  },
  {
   "cell_type": "markdown",
   "id": "4efd8a0e-d239-48c2-b0c2-27644a049925",
   "metadata": {},
   "source": [
    "To tell PyTorch that we want it to calculate gradients for these parameters, we need to call `requires_grad_()`:"
   ]
  },
  {
   "cell_type": "code",
   "execution_count": 23,
   "id": "117cbc7f-8da9-4439-a00a-c708418ca304",
   "metadata": {},
   "outputs": [
    {
     "data": {
      "text/plain": [
       "tensor([1.1000, 1.1000, 1.1000], requires_grad=True)"
      ]
     },
     "execution_count": 23,
     "metadata": {},
     "output_type": "execute_result"
    }
   ],
   "source": [
    "abc.requires_grad_()"
   ]
  },
  {
   "cell_type": "markdown",
   "id": "095d8937-d464-491c-b81e-42f59e666947",
   "metadata": {},
   "source": [
    "We can now calculate `mae()`. Generally, when doing gradient descent, the thing we're trying to minimise is called the **loss**:"
   ]
  },
  {
   "cell_type": "code",
   "execution_count": 24,
   "id": "93c64d68-788a-41b7-b185-239b40df21d8",
   "metadata": {},
   "outputs": [
    {
     "data": {
      "text/plain": [
       "tensor(1.8561, dtype=torch.float64, grad_fn=<MeanBackward0>)"
      ]
     },
     "execution_count": 24,
     "metadata": {},
     "output_type": "execute_result"
    }
   ],
   "source": [
    "loss = quad_mae(abc)\n",
    "loss"
   ]
  },
  {
   "cell_type": "markdown",
   "id": "f88f88c9-04d0-40f7-8042-758ce77bba83",
   "metadata": {},
   "source": [
    "To get PyTorch to now calculate the gradients, we need to call `backward()`"
   ]
  },
  {
   "cell_type": "code",
   "execution_count": 25,
   "id": "10eda7fc-7872-42f1-9c10-4112124e521b",
   "metadata": {},
   "outputs": [],
   "source": [
    "loss.backward()"
   ]
  },
  {
   "cell_type": "markdown",
   "id": "5b19c200-6fe7-4ac3-a221-3476d24cb9b9",
   "metadata": {},
   "source": [
    "The gradients will be stored for us in an attribute called `grad`:"
   ]
  },
  {
   "cell_type": "code",
   "execution_count": 26,
   "id": "57088b0d-d45f-476e-82fa-8fa9c44fb2c6",
   "metadata": {},
   "outputs": [
    {
     "data": {
      "text/plain": [
       "tensor([-0.3446, -0.7684,  0.1000])"
      ]
     },
     "execution_count": 26,
     "metadata": {},
     "output_type": "execute_result"
    }
   ],
   "source": [
    "abc.grad"
   ]
  },
  {
   "cell_type": "markdown",
   "id": "b57e8f31-d2fd-44b3-9c1f-d61bf94dcf27",
   "metadata": {},
   "source": [
    "According to these gradients, all our parameters are a little low. So let's increase them a bit. If we subtract the gradient, multiplied by a small number, that should improve them a bit:"
   ]
  },
  {
   "cell_type": "code",
   "execution_count": 27,
   "id": "698cead6-ae54-4f89-ac86-cd15fc2a3918",
   "metadata": {},
   "outputs": [
    {
     "name": "stdout",
     "output_type": "stream",
     "text": [
      "loss=1.85\n"
     ]
    }
   ],
   "source": [
    "with torch.no_grad():\n",
    "    abc -= abc.grad*0.01\n",
    "    loss = quad_mae(abc)\n",
    "    \n",
    "print(f'loss={loss:.2f}')"
   ]
  },
  {
   "cell_type": "markdown",
   "id": "498364f8-0844-4062-948e-d051c1d65534",
   "metadata": {},
   "source": [
    "Yes, our loss has gone down!\n",
    "\n",
    "The \"small number\" we multiply is called th**e learning ra**te, and is the most important **hyper-parameter** to set when training a neural network.\n",
    "\n",
    "BTW, you'll see we had to wrap our calculation of the new parameters in with `torch.no_grad()`. That disables the calculation of gradients for any operations inside that context manager. We have to do that, because `abc -= abc.grad*0.01` isn't actually part of our quadratic model, so we don't want derivitives to include that calculation.\n",
    "\n",
    "We can use a loop to do a few more iterations of this:"
   ]
  },
  {
   "cell_type": "code",
   "execution_count": 28,
   "id": "c1d372a1-3fc9-42a7-9d77-5141bb153835",
   "metadata": {},
   "outputs": [
    {
     "name": "stdout",
     "output_type": "stream",
     "text": [
      "step=0; loss=1.85\n",
      "step=1; loss=1.83\n",
      "step=2; loss=1.81\n",
      "step=3; loss=1.78\n",
      "step=4; loss=1.75\n",
      "step=5; loss=1.71\n",
      "step=6; loss=1.65\n",
      "step=7; loss=1.60\n",
      "step=8; loss=1.53\n",
      "step=9; loss=1.46\n",
      "step=10; loss=1.38\n",
      "step=11; loss=1.31\n",
      "step=12; loss=1.24\n",
      "step=13; loss=1.17\n",
      "step=14; loss=1.12\n",
      "step=15; loss=1.07\n",
      "step=16; loss=1.05\n",
      "step=17; loss=1.04\n",
      "step=18; loss=1.07\n",
      "step=19; loss=1.10\n"
     ]
    }
   ],
   "source": [
    "for i in range(20):\n",
    "    loss = quad_mae(abc)\n",
    "    loss.backward()\n",
    "    with torch.no_grad(): abc -= abc.grad*0.01\n",
    "    print(f'step={i}; loss={loss:.2f}')"
   ]
  },
  {
   "cell_type": "markdown",
   "id": "fc0adc41-ce38-49fb-a832-e6ad022e3866",
   "metadata": {},
   "source": [
    "As you can see, our loss keeps going down!\n",
    "\n",
    "If you keep running this loop for long enough however, you'll see that the loss eventually starts increasing for a while. That's because once the parameters get close to the correct answer, our parameter updates will jump right over the correct answer! To avoid this, we need to decrease our learning rate as we train. This is done using a learning rate schedule, and can be automated in most deep learning frameworks, such as fastai and PyTorch."
   ]
  },
  {
   "cell_type": "markdown",
   "id": "f952c90f-6714-4c61-be08-30d806542150",
   "metadata": {},
   "source": [
    "## How a neural network approximates any given function?"
   ]
  },
  {
   "cell_type": "markdown",
   "id": "9b408a3e-fc84-413c-a7d2-a2835bcdb982",
   "metadata": {},
   "source": [
    "But neural nets are much more convenient and powerful than this example showed, because we can learn much more than just a quadratic with them. How does that work?\n",
    "\n",
    "The trick is that a neural network is a very expressive function. In fact -- it's infinitely expressive (look at [here](https://en.wikipedia.org/wiki/Universal_approximation_theorem)). A neural network can approximate any computable function, given enough parameters. A \"computable function\" can cover just about anything you can imagine: understand and translate human speech; paint a picture; diagnose a disease from medical imaging; write an essay; etc...\n",
    "\n",
    "The way a neural network approximates a function actually turns out to be very simple. The key trick is to combine two extremely basic steps:\n",
    "\n",
    "- Matrix multiplication, which is just multiplying things together and then adding them up;\n",
    "- The function `max(x,0)`, which simply replaces all negative numbers with zero.\n",
    "\n",
    "\n",
    "In PyTorch, the function `max(x,0)` is written as `np.clip(x,0)`. The combination of a linear function and this `max()` is called a **rectified linear function**, and it can be implemented like this:"
   ]
  },
  {
   "cell_type": "code",
   "execution_count": 29,
   "id": "86d8d4dd-440d-44e5-87a1-0e713d3184c9",
   "metadata": {},
   "outputs": [],
   "source": [
    "def rectified_linear(m,b,x):\n",
    "    y = m*x+b\n",
    "    return torch.clip(y, 0.)"
   ]
  },
  {
   "cell_type": "markdown",
   "id": "54404105-4501-4f02-98cc-251a709809e0",
   "metadata": {},
   "source": [
    "Here's what it looks like:"
   ]
  },
  {
   "cell_type": "code",
   "execution_count": 30,
   "id": "4ee6d8fa-5844-47d1-8f82-0f2fac565dc2",
   "metadata": {},
   "outputs": [
    {
     "data": {
      "image/png": "[encoded data removed]",
      "text/plain": [
       "<Figure size 576x432 with 1 Axes>"
      ]
     },
     "metadata": {},
     "output_type": "display_data"
    }
   ],
   "source": [
    "plot_function(partial(rectified_linear, 1,1))"
   ]
  },
  {
   "cell_type": "markdown",
   "id": "3f8efe2b-4b39-4f86-84d1-2f184b644ef2",
   "metadata": {},
   "source": [
    "BTW, instead of `torch.clip(y, 0.)`, we can instead use `F.relu(x)`, which does exactly the same thing. In PyTorch, F refers to the `torch.nn.functional` module."
   ]
  },
  {
   "cell_type": "code",
   "execution_count": 31,
   "id": "7a9b4e60-5890-45a9-bf43-8c72635d84f1",
   "metadata": {},
   "outputs": [
    {
     "data": {
      "image/png": "[encoded data removed]",
      "text/plain": [
       "<Figure size 576x432 with 1 Axes>"
      ]
     },
     "metadata": {},
     "output_type": "display_data"
    }
   ],
   "source": [
    "import torch.nn.functional as F\n",
    "def rectified_linear2(m,b,x): return F.relu(m*x+b)\n",
    "plot_function(partial(rectified_linear2, 1,1))"
   ]
  },
  {
   "cell_type": "markdown",
   "id": "b809161d-4839-4073-b44b-c303ac39b924",
   "metadata": {},
   "source": [
    "To understand how this function works, try using this interactive version to play around with the parameters `m` and `b`:"
   ]
  },
  {
   "cell_type": "code",
   "execution_count": 32,
   "id": "a1d7650e-3213-4a5d-92fe-7244f0714be8",
   "metadata": {},
   "outputs": [
    {
     "data": {
      "application/vnd.jupyter.widget-view+json": {
       "model_id": "ca22761b1f4048d597c8ef2850b5d612",
       "version_major": 2,
       "version_minor": 0
      },
      "text/plain": [
       "interactive(children=(FloatSlider(value=1.5, description='m', max=4.5, min=-1.5), FloatSlider(value=1.5, descr…"
      ]
     },
     "metadata": {},
     "output_type": "display_data"
    }
   ],
   "source": [
    "@interact(m=1.5, b=1.5)\n",
    "def plot_relu(m, b):\n",
    "    plot_function(partial(rectified_linear, m,b), ylim=(-1,4))"
   ]
  },
  {
   "cell_type": "markdown",
   "id": "d45e1056-8ad7-4cea-bca7-0fadd9fd945c",
   "metadata": {},
   "source": [
    "As you see, `m` changes the slope, and `b` changes where the \"hook\" appears. This function doesn't do much on its own, but look what happens when we add two of them together:"
   ]
  },
  {
   "cell_type": "code",
   "execution_count": 33,
   "id": "098deb33-98d0-4c32-a3c2-9d201af25cc2",
   "metadata": {},
   "outputs": [
    {
     "data": {
      "application/vnd.jupyter.widget-view+json": {
       "model_id": "8e041623e74445608b5c9078d3c995da",
       "version_major": 2,
       "version_minor": 0
      },
      "text/plain": [
       "interactive(children=(FloatSlider(value=-1.5, description='m1', max=1.5, min=-4.5), FloatSlider(value=-1.5, de…"
      ]
     },
     "metadata": {},
     "output_type": "display_data"
    }
   ],
   "source": [
    "def double_relu(m1,b1,m2,b2,x):\n",
    "    return rectified_linear(m1,b1,x) + rectified_linear(m2,b2,x)\n",
    "\n",
    "@interact(m1=-1.5, b1=-1.5, m2=1.5, b2=1.5)\n",
    "def plot_double_relu(m1, b1, m2, b2):\n",
    "    plot_function(partial(double_relu, m1,b1,m2,b2), ylim=(-1,6))"
   ]
  },
  {
   "cell_type": "markdown",
   "id": "09fa97b1-75ad-4924-8e18-418e3dc46789",
   "metadata": {},
   "source": [
    "If you play around with that for a while, you notice something quite profound: with enough of these rectified linear functions added together, you could approximate any function with a single input, to whatever accuracy you like! Any time the function doesn't quite match, you can just add a few more additions to the mix to make it a bit closer. As an experiment, perhaps you'd like to try creating your own `plot_triple_relu` interactive function, and maybe even include the scatter plot of our data from before, to see how close you can get?\n",
    "\n",
    "This exact same approach can be expanded to functions of 2, 3, or more parameters."
   ]
  },
  {
   "cell_type": "code",
   "execution_count": 35,
   "id": "c9a4d476",
   "metadata": {},
   "outputs": [
    {
     "data": {
      "application/vnd.jupyter.widget-view+json": {
       "model_id": "5ee9fe90238947ffbba8be775f5e15d4",
       "version_major": 2,
       "version_minor": 0
      },
      "text/plain": [
       "interactive(children=(FloatSlider(value=-1.5, description='m1', max=1.5, min=-4.5), FloatSlider(value=-1.5, de…"
      ]
     },
     "metadata": {},
     "output_type": "display_data"
    }
   ],
   "source": [
    "def triple_relu(m1,b1,m2,b2,m3,b3,x):\n",
    "    return rectified_linear(m1,b1,x) + rectified_linear(m2,b2,x) + rectified_linear(m3,b3,x)\n",
    "\n",
    "@interact(m1=-1.5, b1=-1.5, m2=1.5, b2=1.5, m3=1.5, b3=1.5)\n",
    "def plot_triple_relu(m1, b1, m2, b2, m3, b3):\n",
    "    plot_function(partial(triple_relu, m1,b1,m2,b2,m3, b3), ylim=(-1,6))"
   ]
  },
  {
   "cell_type": "markdown",
   "id": "f00280be-9c92-47c7-b9b0-0f4379366f89",
   "metadata": {},
   "source": [
    "## How to recognise an owl\n",
    "OK great, we've created a nifty little example showing that we can drawing squiggly lines that go through some points. So what?\n",
    "\n",
    "We have just derived deep-learning! everything from now, are tricks to make it faster and make it need less data. This is it!\n",
    "\n",
    "\n",
    "Well... the truth is that actually drawing squiggly lines (or planes, or high-dimensional hyperplanes...) through some points is literally all that deep learning does! If your data points are, say, the RGB values of pixels in photos of owls, then you can create an owl-recogniser model by following the exact steps above.\n",
    "\n",
    "This may, at first, sound about as useful as the classic \"how to draw an owl\" guide:\n",
    "\n",
    "![owl](images/howtodrawanowl.png)\n",
    "\n",
    "\n",
    "People often ask \"OK, but how do neural nets actually work\". But at a foundational level, there is no \"step 2\". We're done -- the above steps will, given enough time and enough data, create (for example) an owl recogniser, if you feed in enough owls (and non-owls).\n",
    "\n",
    "The devil, is in the \"given enough time and enough data\" part of the above sentence. There's a lot of tweaks we can make to reduce both of these things. For instance, instead of running our calculations on a normal CPU, as we've done above, we could do thousands of them simultaneously by taking advantage of a GPU. We could greatly reduce the amount of computation and data needed by using a convolution instead of a matrix multiplication, which basically means skipping over a bunch of the multiplications and additions for bits that you'd guess won't be important. We could make things much faster if, instead of starting with random parameters, we start with parameters of someone else's model that does something similar to what we want (this is called transfer learning).\n",
    "\n",
    "\n",
    "When you have ReLUs getting added together and gradient descent optimize parameters, and samples of input and output you want, the computer will draw the owl!\n",
    "Keep calm and remind youself that deep-learning is ReLUs + gradient-descent!"
   ]
  },
  {
   "cell_type": "markdown",
   "id": "0eace8ea-3a57-4a95-9887-2de1ce0611c4",
   "metadata": {},
   "source": [
    "## Build a regression model in spreadsheet"
   ]
  },
  {
   "cell_type": "code",
   "execution_count": null,
   "id": "7d5bf237-88ec-40e1-bb34-0bb326441953",
   "metadata": {},
   "outputs": [],
   "source": []
  },
  {
   "cell_type": "code",
   "execution_count": null,
   "id": "ecfa2f3f-5752-4069-9752-7fe91b60399d",
   "metadata": {},
   "outputs": [],
   "source": []
  },
  {
   "cell_type": "markdown",
   "id": "c62ebd09-1938-4bf1-94e8-c1e53bae4e24",
   "metadata": {},
   "source": [
    "\n",
    "\n",
    "\n",
    "\n",
    "at a start of a project, jeremy would use res-net18 and try cleaning, augmentation, external data and so on as mush fast as possible. training better architecture is the last thing you can do\n",
    "\n",
    "Start training model on day one!\n",
    "\n",
    "Learning rate, hyper-parameter! How to pick? it could considerly impact the performance, fine_tuning set reseanable lr for us, but may we can change it to match for our problem!"
   ]
  },
  {
   "cell_type": "markdown",
   "id": "c806f7aa-4f19-45fe-a3f6-90698c33a20d",
   "metadata": {},
   "source": [
    "matrix multiplication\n",
    "http://matrixmultiplication.xyz/\n",
    "GPUs are good in matrix multiplications thanks to tensor-core"
   ]
  },
  {
   "cell_type": "code",
   "execution_count": null,
   "id": "8a6b5031-48d7-49f1-a40e-512488a6b2fe",
   "metadata": {},
   "outputs": [],
   "source": [
    "# titanic competition.... excel... select just people with not nan.. categorical encoding\n",
    "# starting from random numbers..\n",
    "# normalization\n",
    "# for distribution like money, log non-linearity"
   ]
  },
  {
   "cell_type": "code",
   "execution_count": null,
   "id": "ed1878a1-b9e6-4fe8-a77b-819633f083ec",
   "metadata": {},
   "outputs": [],
   "source": [
    "# Getting started with NLP for absolute beginners (notebook)"
   ]
  }
 ],
 "metadata": {
  "kernelspec": {
   "display_name": "Python 3 (ipykernel)",
   "language": "python",
   "name": "python3"
  },
  "language_info": {
   "codemirror_mode": {
    "name": "ipython",
    "version": 3
   },
   "file_extension": ".py",
   "mimetype": "text/x-python",
   "name": "python",
   "nbconvert_exporter": "python",
   "pygments_lexer": "ipython3",
   "version": "3.10.8"
  }
 },
 "nbformat": 4,
 "nbformat_minor": 5
}
