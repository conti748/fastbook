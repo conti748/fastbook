{
 "cells": [
  {
   "cell_type": "markdown",
   "id": "a7acc5a5-eab5-4ef4-a9ee-5a2f09fc52ac",
   "metadata": {},
   "source": [
    "# Lesson 3: Practical Deep Learning for Coders - Neural net foundations\n",
    "\r\n",
    "This notebook presents my personal notes and work coming from my experience with the3rdd lesson of the course \"Practical Deep Learning\" by Jeremy Howard [here](https://www.youtube.com/watch?v=hBBOjCiFcuo&t=1s)e for the video on YT) and the related fastbook, the Jupyter-Book from fast.ai. The lecture is based on thd chapter4  of the book.\r\n",
    "\r\n",
    "The lessexplains what was going on in previous lectures! What is a learner and what does it meas training it?nt.\r\n",
    "\r\n",
    "Lesson structXXXXXXh.Gradio;"
   ]
  },
  {
   "cell_type": "code",
   "execution_count": 1,
   "id": "281504a3-db0a-4ddf-a215-0c45d7482d5e",
   "metadata": {},
   "outputs": [],
   "source": [
    "# load model from previous lesson\n",
    "learn.model"
   ]
  },
  {
   "cell_type": "markdown",
   "id": "e44f7525-5ef5-4eba-af01-d6fb377e9c9c",
   "metadata": {},
   "source": [
    "Our model is a deep one, it contains multiple layers and a lot of layers consists of layers. What is all this stuff?"
   ]
  },
  {
   "cell_type": "code",
   "execution_count": null,
   "id": "5f66f48c-ac3e-4f84-b98b-ba0493f7a838",
   "metadata": {},
   "outputs": [],
   "source": [
    "m.get_submodule('0.model.stem.1')"
   ]
  },
  {
   "cell_type": "markdown",
   "id": "34d3aa16-ff03-4cce-8cf0-8054f2ce1b43",
   "metadata": {},
   "source": [
    "The are a lot of parameters of our models"
   ]
  },
  {
   "cell_type": "markdown",
   "id": "e7a6d11c-4600-4582-aa8f-8c3847a7549a",
   "metadata": {},
   "source": [
    "Notebook [How does a NN really work?](https://www.kaggle.com/code/jhoward/how-does-a-neural-net-really-work)\n",
    "\n",
    "imagine we do not know its equation\n",
    "\n",
    "we can create a lot of quadratic\n",
    "\n",
    "functools, partial\n",
    "\n",
    "generate synthetic data\n",
    "\n",
    "now, with this data, we want to rencostruct our original shape"
   ]
  },
  {
   "cell_type": "markdown",
   "id": "c62ebd09-1938-4bf1-94e8-c1e53bae4e24",
   "metadata": {},
   "source": [
    "We have just derived deep-learning! everything from now, are tricks to make it faster and make it need less data. This is it!\n",
    "\n",
    "How to draw a owl! When you have ReLUs getting added together and gradient descent optimize parameters, and samples of input and output you want, the computer will draw the owl!\n",
    "Keep calm and remind youself that deep-learning is ReLUs + gradient-descent!\n",
    "\n",
    "at a start of a project, jeremy would use res-net18 and try cleaning, augmentation, external data and so on as mush fast as possible. training better architecture is the last thing you can do\n",
    "\n",
    "Start training model on day one!\n",
    "\n",
    "Learning rate, hyper-parameter! How to pick? it could considerly impact the performance, fine_tuning set reseanable lr for us, but may we can change it to match for our problem!"
   ]
  },
  {
   "cell_type": "markdown",
   "id": "c806f7aa-4f19-45fe-a3f6-90698c33a20d",
   "metadata": {},
   "source": [
    "matrix multiplication\n",
    "http://matrixmultiplication.xyz/\n",
    "GPUs are good in matrix multiplications thanks to tensor-core"
   ]
  },
  {
   "cell_type": "code",
   "execution_count": null,
   "id": "8a6b5031-48d7-49f1-a40e-512488a6b2fe",
   "metadata": {},
   "outputs": [],
   "source": [
    "# titanic competition.... excel... select just people with not nan.. categorical encoding\n",
    "# starting from random numbers..\n",
    "# normalization\n",
    "# for distribution like money, log non-linearity"
   ]
  },
  {
   "cell_type": "code",
   "execution_count": null,
   "id": "ed1878a1-b9e6-4fe8-a77b-819633f083ec",
   "metadata": {},
   "outputs": [],
   "source": [
    "# Getting started with NLP for absolute beginners (notebook)"
   ]
  }
 ],
 "metadata": {
  "kernelspec": {
   "display_name": "Python 3 (ipykernel)",
   "language": "python",
   "name": "python3"
  },
  "language_info": {
   "codemirror_mode": {
    "name": "ipython",
    "version": 3
   },
   "file_extension": ".py",
   "mimetype": "text/x-python",
   "name": "python",
   "nbconvert_exporter": "python",
   "pygments_lexer": "ipython3",
   "version": "3.10.8"
  }
 },
 "nbformat": 4,
 "nbformat_minor": 5
}
